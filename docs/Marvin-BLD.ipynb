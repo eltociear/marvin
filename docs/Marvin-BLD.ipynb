{
 "cells": [
  {
   "cell_type": "markdown",
   "metadata": {
    "slideshow": {
     "slide_type": "slide"
    }
   },
   "source": [
    "## Marvin\n",
    "> \"Let’s build robots with Genuine People Personalities,\" they said. So they tried it out with me. I’m a personality prototype. You can tell, can’t you?"
   ]
  },
  {
   "cell_type": "markdown",
   "metadata": {
    "slideshow": {
     "slide_type": "slide"
    }
   },
   "source": [
    "## Note:\n",
    "- Marvin is purely for internal use\n",
    "- Marvin is unrelated to the Prefect slack app that customers will interact with\n",
    "\n",
    "## What we want to talk about today:\n",
    "- what makes Marvin tick?\n",
    "- what do you need locally to hack on Marvin?"
   ]
  },
  {
   "cell_type": "markdown",
   "metadata": {
    "slideshow": {
     "slide_type": "slide"
    }
   },
   "source": [
    "<img src=\"marvins_guts.svg\">"
   ]
  },
  {
   "cell_type": "markdown",
   "metadata": {
    "slideshow": {
     "slide_type": "subslide"
    }
   },
   "source": [
    "#### Marvin's high-level structure\n",
    "\n",
    "\n",
    "```\n",
    "|____marvin\n",
    "| |____defcon.py      # /defcon command\n",
    "| |____responses.py   # notifications / reactions\n",
    "| |______init__.py\n",
    "| |____core.py        # webserver\n",
    "| |____loop_policy.py # utility for scheduling standup\n",
    "| |____standup.py     # standup logic\n",
    "| |____utilities.py   # slack utilities\n",
    "\n",
    "## deployment\n",
    "|____kubernetes\n",
    "| |____deployment.yml\n",
    "| |____service.yml\n",
    "\n",
    "|____.circleci\n",
    "| |____config.yml\n",
    "```"
   ]
  },
  {
   "cell_type": "markdown",
   "metadata": {
    "slideshow": {
     "slide_type": "slide"
    }
   },
   "source": [
    "## And unfortunately, there's a relatively large portion of work that needs to occur in the Slack Web UI\n",
    "<img src=\"slack_web_ui.png\">"
   ]
  },
  {
   "cell_type": "markdown",
   "metadata": {
    "slideshow": {
     "slide_type": "slide"
    }
   },
   "source": [
    "# Tokens\n",
    "\n",
    "| Token Name        | Purpose           |\n",
    "| ------------- |:-------------:| -----:|\n",
    "| `MARVIN_TOKEN`      | Marvin's \"bot user\" token; this is the token Marvin needs for simply speaking / reacting |\n",
    "| `MARVIN_OAUTH_TOKEN`      | Marvin's full OAuth token; this is the token Marvin needs for performing higher permission actions (such as editing pins) |\n",
    "| `SLACK_VALIDATION_TOKEN` | this token is used to internally validate that incoming requests are legitimate Slack requests |\n",
    "| `GOOGLE_SERVICE_ACCOUNT_KEY` | Marvin's key granting permissions for Googe Cloud services |"
   ]
  },
  {
   "cell_type": "markdown",
   "metadata": {
    "slideshow": {
     "slide_type": "subslide"
    }
   },
   "source": [
    "# Things you can do locally with _only_ these tokens:\n",
    "\n",
    "- Speak through Marvin:\n",
    "\n",
    "```python\n",
    "from marvin.utilities import say\n",
    "\n",
    "say(\"Hey this is really Chris\", channel=\"CBH18KG8G\") # engineering channel\n",
    "```\n",
    "\n",
    "- edit Marvin's code, run tests (of course there are unit tests!)\n",
    "- deploy Marvin from your laptop\n",
    "- anything that doesn't require a running webserver"
   ]
  },
  {
   "cell_type": "markdown",
   "metadata": {
    "slideshow": {
     "slide_type": "slide"
    }
   },
   "source": [
    "# Marvin's webserver\n",
    "\n",
    "Slash commands and event subscriptions are sent to a fixed web address, which normally points to a Google Cloud IP Address; you can easily change this to point to a local (and temporary) address.  Run the `marvin` CLI command + `ngrok http 8080` to standup a webserver and\n",
    "<img src=\"ngrok_slack.png\" width=500>\n",
    "\n",
    "Notice the error message: this is the `SLACK_VALIDATION_TOKEN`"
   ]
  },
  {
   "cell_type": "markdown",
   "metadata": {},
   "source": [
    "- webserver is useful for capturing things and inspecting what slack is sending, although the API docs aren't bad\n",
    "- how notifications work (marvin is just in the channel, show code snippet which redirects for github and notion)\n",
    "- what you can do (marvin needs a memory, marvin needs more fun - he should emoji react to stuff)\n",
    "- get creative! (meme)"
   ]
  },
  {
   "cell_type": "markdown",
   "metadata": {
    "slideshow": {
     "slide_type": "slide"
    }
   },
   "source": [
    "# The Future: Marvin will run on Prefect!"
   ]
  },
  {
   "cell_type": "code",
   "execution_count": null,
   "metadata": {},
   "outputs": [],
   "source": []
  }
 ],
 "metadata": {
  "celltoolbar": "Slideshow",
  "kernelspec": {
   "display_name": "Python 3",
   "language": "python",
   "name": "python3"
  },
  "language_info": {
   "codemirror_mode": {
    "name": "ipython",
    "version": 3
   },
   "file_extension": ".py",
   "mimetype": "text/x-python",
   "name": "python",
   "nbconvert_exporter": "python",
   "pygments_lexer": "ipython3",
   "version": "3.6.5"
  }
 },
 "nbformat": 4,
 "nbformat_minor": 2
}
