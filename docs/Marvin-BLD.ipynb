{
 "cells": [
  {
   "cell_type": "markdown",
   "metadata": {
    "slideshow": {
     "slide_type": "slide"
    }
   },
   "source": [
    "## Marvin\n",
    "> \"Let’s build robots with Genuine People Personalities,\" they said. So they tried it out with me. I’m a personality prototype. You can tell, can’t you?"
   ]
  },
  {
   "cell_type": "markdown",
   "metadata": {
    "slideshow": {
     "slide_type": "slide"
    }
   },
   "source": [
    "## Note:\n",
    "- Marvin is purely for internal use\n",
    "- Marvin is unrelated to the Prefect slack app that customers will interact with\n",
    "\n",
    "## What we want to talk about today:\n",
    "- what makes Marvin tick?\n",
    "- what do you need locally to hack on Marvin?"
   ]
  },
  {
   "cell_type": "markdown",
   "metadata": {
    "slideshow": {
     "slide_type": "slide"
    }
   },
   "source": [
    "<img src=\"marvins_guts.svg\">"
   ]
  },
  {
   "cell_type": "markdown",
   "metadata": {
    "slideshow": {
     "slide_type": "subslide"
    }
   },
   "source": [
    "#### Marvin's high-level structure\n",
    "\n",
    "\n",
    "```\n",
    "|____marvin\n",
    "| |____defcon.py      # /defcon command\n",
    "| |____responses.py   # notifications / reactions\n",
    "| |______init__.py\n",
    "| |____core.py        # webserver\n",
    "| |____loop_policy.py # utility for scheduling standup\n",
    "| |____standup.py     # standup logic\n",
    "| |____utilities.py   # slack utilities\n",
    "\n",
    "## deployment\n",
    "|____kubernetes\n",
    "| |____deployment.yml\n",
    "| |____service.yml\n",
    "\n",
    "|____.circleci\n",
    "| |____config.yml\n",
    "```"
   ]
  },
  {
   "cell_type": "markdown",
   "metadata": {
    "slideshow": {
     "slide_type": "slide"
    }
   },
   "source": [
    "## And unfortunately, there's a relatively large portion of work that needs to occur in the Slack Web UI\n",
    "<img src=\"slack_web_ui.png\">"
   ]
  },
  {
   "cell_type": "markdown",
   "metadata": {
    "slideshow": {
     "slide_type": "slide"
    }
   },
   "source": [
    "# Tokens\n",
    "\n",
    "| Token Name        | Purpose           |\n",
    "| ------------- |:-------------:| -----:|\n",
    "| `MARVIN_SLACK_TOKEN`      | Marvin's \"bot user\" token; this is the token Marvin needs for simply speaking / reacting |\n",
    "| `MARVIN_SLACK_OAUTH_TOKEN`      | Marvin's full OAuth token; this is the token Marvin needs for performing higher permission actions (such as editing pins) |\n",
    "| `MARVIN_SLACK_VALIDATION_TOKEN` | this token is used to internally validate that incoming requests are legitimate Slack requests |\n",
    "| `GOOGLE_SERVICE_ACCOUNT_KEY` | Marvin's key granting permissions for Googe Cloud services |"
   ]
  },
  {
   "cell_type": "markdown",
   "metadata": {
    "slideshow": {
     "slide_type": "subslide"
    }
   },
   "source": [
    "# Things you can do locally with _only_ these tokens:\n",
    "\n",
    "- Speak through Marvin:\n",
    "\n",
    "```python\n",
    "\n",
    "from marvin.utilities import say\n",
    "say(\"Hey this is really Chris\", channel=\"CBH18KG8G\") # engineering channel\n",
    "```\n",
    "\n",
    "- edit Marvin's code, run tests (of course there are unit tests!)\n",
    "- deploy Marvin from your laptop\n",
    "- anything that doesn't require a running webserver"
   ]
  },
  {
   "cell_type": "markdown",
   "metadata": {
    "slideshow": {
     "slide_type": "slide"
    }
   },
   "source": [
    "# Marvin's webserver\n",
    "\n",
    "Slash commands and event subscriptions are sent to a fixed web address, which normally points to a Google Cloud IP Address; you can easily change this to point to a local (and temporary) address.  Run the `marvin` CLI command + `ngrok http 8080` to standup a webserver and\n",
    "<img src=\"ngrok_slack.png\" width=500>\n",
    "\n",
    "Notice the error message: this is the `MARVIN_SLACK_VALIDATION_TOKEN`"
   ]
  },
  {
   "cell_type": "markdown",
   "metadata": {
    "slideshow": {
     "slide_type": "slide"
    }
   },
   "source": [
    "# How Notifications Work: Simple\n",
    "\n",
    "1. a Slack channel exists which each notification stream is posted to (e.g., #github-notifications)\n",
    "2. Marvin is invited to that channel\n",
    "3. Using Marvin's event subscription to channel posts, he listens for each particular bot and forwards the notification to the right person:"
   ]
  },
  {
   "cell_type": "code",
   "execution_count": null,
   "metadata": {
    "slideshow": {
     "slide_type": "fragment"
    }
   },
   "outputs": [],
   "source": [
    "async def event_handler(data: Body):\n",
    "    ...\n",
    "    json_data = json.loads(data)                                                    \n",
    "    ...\n",
    "    event = json_data.get(\"event\", {})                                              \n",
    "    event_type = event.get(\"type\")                                                  \n",
    "    if event_type == \"app_mention\" or MARVIN_ID in event.get(\"text\", \"\"):\n",
    "        return app_mention(event)\n",
    "    elif event_type == \"message\" and event.get(\"bot_id\") == \"BBGMPFDHQ\":\n",
    "        return github_mention(event)\n",
    "    elif event_type == \"message\" and event.get(\"bot_id\") == \"BDUBG9WAD\":\n",
    "        return notion_mention(event)"
   ]
  },
  {
   "cell_type": "markdown",
   "metadata": {
    "slideshow": {
     "slide_type": "subslide"
    }
   },
   "source": [
    "## Source code for Github mentions"
   ]
  },
  {
   "cell_type": "code",
   "execution_count": null,
   "metadata": {
    "slideshow": {
     "slide_type": "fragment"
    }
   },
   "outputs": [],
   "source": [
    "def github_mention(event):                                                       \n",
    "    data = event.get(\"attachments\", [{}])[0]                                     \n",
    "    text = data.get(\"text\", \"\")                                                  \n",
    "    was_mentioned = {uid: (f\"@{github}\" in text) for github, uid in GITHUB_MAP.items()}\n",
    "    for uid, mentioned in was_mentioned.items():                                 \n",
    "        if not mentioned:                                                        \n",
    "            continue                                                             \n",
    "        else:                                                                    \n",
    "            link = data.get(\"title_link\", \"link unavailable\")                    \n",
    "            msg = f\"You were mentioned on GitHub @ {link}\"                       \n",
    "            say(msg, channel=get_dm_channel_id(uid))"
   ]
  },
  {
   "cell_type": "markdown",
   "metadata": {
    "slideshow": {
     "slide_type": "subslide"
    }
   },
   "source": [
    "# How do you figure out channel IDs and user IDs??"
   ]
  },
  {
   "cell_type": "code",
   "execution_count": null,
   "metadata": {
    "slideshow": {
     "slide_type": "fragment"
    }
   },
   "outputs": [],
   "source": [
    "from marvin.utilities import get_users\n",
    "\n",
    "get_users?\n",
    ">>> Retrieve all current full-time Slack users.\n",
    "\n",
    ">>> Returns:\n",
    ">>>    - a dictionary of user name -> Slack User ID\n",
    "\n",
    "get_users()\n",
    "# {'jeremiah': 'UAPLR5SHL',\n",
    "#  'chris': 'UBBE1SC8L',\n",
    "#  'josh': 'UBE4N2LG1',\n",
    "#  'dylan': 'UDKF9U8UC',\n",
    "#  'ngan': 'UDTREHXGD'}\n",
    "\n",
    "## and similarly for get_channels"
   ]
  },
  {
   "cell_type": "markdown",
   "metadata": {
    "slideshow": {
     "slide_type": "slide"
    }
   },
   "source": [
    "## How does Marvin remember things??\n",
    "\n",
    "#### Defcon Levels\n",
    "Marvin doesn't. He simply searchs for a pinned item of the right form.\n",
    "\n",
    "#### Standup\n",
    "Marvin maintains a global dictionary of updates - this means if the process running Marvin is killed, he will lose any updates he has received since the last standup.  **Marvin needs a memory!**"
   ]
  },
  {
   "cell_type": "markdown",
   "metadata": {
    "slideshow": {
     "slide_type": "slide"
    }
   },
   "source": [
    "# The Future\n",
    "\n",
    "<img src=\"marvin_plus_prefect.png\">\n",
    "\n",
    "## Marvin will run on Prefect!"
   ]
  }
 ],
 "metadata": {
  "celltoolbar": "Slideshow",
  "kernelspec": {
   "display_name": "Python 3",
   "language": "python",
   "name": "python3"
  },
  "language_info": {
   "codemirror_mode": {
    "name": "ipython",
    "version": 3
   },
   "file_extension": ".py",
   "mimetype": "text/x-python",
   "name": "python",
   "nbconvert_exporter": "python",
   "pygments_lexer": "ipython3",
   "version": "3.6.7"
  }
 },
 "nbformat": 4,
 "nbformat_minor": 2
}
